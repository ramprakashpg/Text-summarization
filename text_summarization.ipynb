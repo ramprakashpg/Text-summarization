{
 "cells": [
  {
   "metadata": {},
   "cell_type": "markdown",
   "source": "# Text summarization",
   "id": "8a77807f92f26ee"
  },
  {
   "metadata": {},
   "cell_type": "markdown",
   "source": "### Method 1  - Basic method using the words with highest frequency",
   "id": "4bd168cbd5e94f07"
  },
  {
   "metadata": {
    "ExecuteTime": {
     "end_time": "2024-11-07T21:36:14.871476Z",
     "start_time": "2024-11-07T21:36:08.070689Z"
    }
   },
   "cell_type": "code",
   "source": "import spacy",
   "id": "d6ded9d18d48527c",
   "outputs": [],
   "execution_count": 1
  },
  {
   "metadata": {
    "ExecuteTime": {
     "end_time": "2024-11-07T21:36:15.267329Z",
     "start_time": "2024-11-07T21:36:14.872637Z"
    }
   },
   "cell_type": "code",
   "source": "nlp = spacy.load(\"en_core_web_sm\")",
   "id": "96c87757ba372398",
   "outputs": [],
   "execution_count": 2
  },
  {
   "metadata": {
    "ExecuteTime": {
     "end_time": "2024-11-07T21:36:15.270720Z",
     "start_time": "2024-11-07T21:36:15.268148Z"
    }
   },
   "cell_type": "code",
   "source": "text = \"Pernod takeover talk lifts Domecq Shares in UK drinks and food firm Allied Domecq have risen on speculation that it could be the target of a takeover by France's Pernod Ricard. Reports in the Wall Street Journal and the Financial Times suggested that the French spirits firm is considering a bid, but has yet to contact its target. Allied Domecq shares in London rose 4% by 1200 GMT, while Pernod shares in Paris slipped 1.2%. Pernod said it was seeking acquisitions but refused to comment on specifics. Pernod's last major purchase was a third of US giant Seagram in 2000, the move which propelled it into the global top three of drinks firms. The other two-thirds of Seagram was bought by market leader Diageo. In terms of market value, Pernod - at 7.5bn euros ($9.7bn) - is about 9% smaller than Allied Domecq, which has a capitalisation of £5.7bn ($10.7bn; 8.2bn euros). Last year Pernod tried to buy Glenmorangie, one of Scotland's premier whisky firms, but lost out to luxury goods firm LVMH. Pernod is home to brands including Chivas Regal Scotch whisky, Havana Club rum and Jacob's Creek wine. Allied Domecq's big names include Malibu rum, Courvoisier brandy, Stolichnaya vodka and Ballantine's whisky - as well as snack food chains such as Dunkin' Donuts and Baskin-Robbins ice cream. The WSJ said that the two were ripe for consolidation, having each dealt with problematic parts of their portfolio. Pernod has reduced the debt it took on to fund the Seagram purchase to just 1.8bn euros, while Allied has improved the performance of its fast-food chains.\"",
   "id": "fbc121e30a2defb3",
   "outputs": [],
   "execution_count": 3
  },
  {
   "metadata": {
    "ExecuteTime": {
     "end_time": "2024-11-07T21:36:15.321840Z",
     "start_time": "2024-11-07T21:36:15.272619Z"
    }
   },
   "cell_type": "code",
   "source": [
    "doc = nlp(text)\n",
    "clean_doc = []\n",
    "for token in doc:\n",
    "    if not token.is_stop and not token.is_punct and not token.like_num:\n",
    "        clean_doc.append(token.text)\n",
    "\n",
    "print(' '.join(clean_doc))"
   ],
   "id": "c8442cb278bf979",
   "outputs": [
    {
     "name": "stdout",
     "output_type": "stream",
     "text": [
      "Pernod takeover talk lifts Domecq Shares UK drinks food firm Allied Domecq risen speculation target takeover France Pernod Ricard Reports Wall Street Journal Financial Times suggested French spirits firm considering bid contact target Allied Domecq shares London rose GMT Pernod shares Paris slipped Pernod said seeking acquisitions refused comment specifics Pernod major purchase giant Seagram propelled global drinks firms thirds Seagram bought market leader Diageo terms market value Pernod 7.5bn euros $ 9.7bn smaller Allied Domecq capitalisation £ 5.7bn $ 10.7bn 8.2bn euros year Pernod tried buy Glenmorangie Scotland premier whisky firms lost luxury goods firm LVMH Pernod home brands including Chivas Regal Scotch whisky Havana Club rum Jacob Creek wine Allied Domecq big names include Malibu rum Courvoisier brandy Stolichnaya vodka Ballantine whisky snack food chains Dunkin Donuts Baskin Robbins ice cream WSJ said ripe consolidation having dealt problematic parts portfolio Pernod reduced debt took fund Seagram purchase 1.8bn euros Allied improved performance fast food chains\n"
     ]
    }
   ],
   "execution_count": 4
  },
  {
   "metadata": {
    "ExecuteTime": {
     "end_time": "2024-11-07T21:36:15.326741Z",
     "start_time": "2024-11-07T21:36:15.322672Z"
    }
   },
   "cell_type": "code",
   "source": [
    "sentence = [each_sentence for each_sentence in doc.sents]\n",
    "sentence"
   ],
   "id": "101ece4fcdd0a01b",
   "outputs": [
    {
     "data": {
      "text/plain": [
       "[Pernod takeover talk lifts Domecq Shares in UK drinks and food firm Allied Domecq have risen on speculation that it could be the target of a takeover by France's Pernod Ricard.,\n",
       " Reports in the Wall Street Journal and the Financial Times suggested that the French spirits firm is considering a bid, but has yet to contact its target.,\n",
       " Allied Domecq shares in London rose 4% by 1200 GMT, while Pernod shares in Paris slipped 1.2%.,\n",
       " Pernod said it was seeking acquisitions but refused to comment on specifics.,\n",
       " Pernod's last major purchase was a third of US giant Seagram in 2000, the move which propelled it into the global top three of drinks firms.,\n",
       " The other two-thirds of Seagram was bought by market leader Diageo.,\n",
       " In terms of market value, Pernod - at 7.5bn euros ($9.7bn) - is about 9% smaller than Allied Domecq, which has a capitalisation of £5.7bn ($10.7bn; 8.2bn euros).,\n",
       " Last year Pernod tried to buy Glenmorangie, one of Scotland's premier whisky firms, but lost out to luxury goods firm LVMH.,\n",
       " Pernod is home to brands including Chivas Regal Scotch whisky, Havana Club rum and Jacob's Creek wine.,\n",
       " Allied Domecq's big names include Malibu rum, Courvoisier brandy, Stolichnaya vodka and Ballantine's whisky - as well as snack food chains such as Dunkin' Donuts and Baskin-Robbins ice cream.,\n",
       " The WSJ said that the two were ripe for consolidation, having each dealt with problematic parts of their portfolio.,\n",
       " Pernod has reduced the debt it took on to fund the Seagram purchase to just 1.8bn euros, while Allied has improved the performance of its fast-food chains.]"
      ]
     },
     "execution_count": 5,
     "metadata": {},
     "output_type": "execute_result"
    }
   ],
   "execution_count": 5
  },
  {
   "metadata": {
    "ExecuteTime": {
     "end_time": "2024-11-07T21:36:15.330215Z",
     "start_time": "2024-11-07T21:36:15.327919Z"
    }
   },
   "cell_type": "code",
   "source": [
    "word_length = {}\n",
    "for token in clean_doc:\n",
    "    if token not in word_length:\n",
    "        word_length[token] = 1\n",
    "    else:\n",
    "        word_length[token] += 1\n"
   ],
   "id": "223377b4af3fb930",
   "outputs": [],
   "execution_count": 6
  },
  {
   "metadata": {
    "ExecuteTime": {
     "end_time": "2024-11-07T21:36:15.335816Z",
     "start_time": "2024-11-07T21:36:15.331418Z"
    }
   },
   "cell_type": "code",
   "source": [
    "word_length_sorted = {key: value for key, value in sorted(word_length.items(), key=lambda x: x[1])}\n",
    "word_length_sorted"
   ],
   "id": "69ef4c474fe2504c",
   "outputs": [
    {
     "data": {
      "text/plain": [
       "{'talk': 1,\n",
       " 'lifts': 1,\n",
       " 'Shares': 1,\n",
       " 'UK': 1,\n",
       " 'risen': 1,\n",
       " 'speculation': 1,\n",
       " 'France': 1,\n",
       " 'Ricard': 1,\n",
       " 'Reports': 1,\n",
       " 'Wall': 1,\n",
       " 'Street': 1,\n",
       " 'Journal': 1,\n",
       " 'Financial': 1,\n",
       " 'Times': 1,\n",
       " 'suggested': 1,\n",
       " 'French': 1,\n",
       " 'spirits': 1,\n",
       " 'considering': 1,\n",
       " 'bid': 1,\n",
       " 'contact': 1,\n",
       " 'London': 1,\n",
       " 'rose': 1,\n",
       " 'GMT': 1,\n",
       " 'Paris': 1,\n",
       " 'slipped': 1,\n",
       " 'seeking': 1,\n",
       " 'acquisitions': 1,\n",
       " 'refused': 1,\n",
       " 'comment': 1,\n",
       " 'specifics': 1,\n",
       " 'major': 1,\n",
       " 'giant': 1,\n",
       " 'propelled': 1,\n",
       " 'global': 1,\n",
       " 'thirds': 1,\n",
       " 'bought': 1,\n",
       " 'leader': 1,\n",
       " 'Diageo': 1,\n",
       " 'terms': 1,\n",
       " 'value': 1,\n",
       " '7.5bn': 1,\n",
       " '9.7bn': 1,\n",
       " 'smaller': 1,\n",
       " 'capitalisation': 1,\n",
       " '£': 1,\n",
       " '5.7bn': 1,\n",
       " '10.7bn': 1,\n",
       " '8.2bn': 1,\n",
       " 'year': 1,\n",
       " 'tried': 1,\n",
       " 'buy': 1,\n",
       " 'Glenmorangie': 1,\n",
       " 'Scotland': 1,\n",
       " 'premier': 1,\n",
       " 'lost': 1,\n",
       " 'luxury': 1,\n",
       " 'goods': 1,\n",
       " 'LVMH': 1,\n",
       " 'home': 1,\n",
       " 'brands': 1,\n",
       " 'including': 1,\n",
       " 'Chivas': 1,\n",
       " 'Regal': 1,\n",
       " 'Scotch': 1,\n",
       " 'Havana': 1,\n",
       " 'Club': 1,\n",
       " 'Jacob': 1,\n",
       " 'Creek': 1,\n",
       " 'wine': 1,\n",
       " 'big': 1,\n",
       " 'names': 1,\n",
       " 'include': 1,\n",
       " 'Malibu': 1,\n",
       " 'Courvoisier': 1,\n",
       " 'brandy': 1,\n",
       " 'Stolichnaya': 1,\n",
       " 'vodka': 1,\n",
       " 'Ballantine': 1,\n",
       " 'snack': 1,\n",
       " 'Dunkin': 1,\n",
       " 'Donuts': 1,\n",
       " 'Baskin': 1,\n",
       " 'Robbins': 1,\n",
       " 'ice': 1,\n",
       " 'cream': 1,\n",
       " 'WSJ': 1,\n",
       " 'ripe': 1,\n",
       " 'consolidation': 1,\n",
       " 'having': 1,\n",
       " 'dealt': 1,\n",
       " 'problematic': 1,\n",
       " 'parts': 1,\n",
       " 'portfolio': 1,\n",
       " 'reduced': 1,\n",
       " 'debt': 1,\n",
       " 'took': 1,\n",
       " 'fund': 1,\n",
       " '1.8bn': 1,\n",
       " 'improved': 1,\n",
       " 'performance': 1,\n",
       " 'fast': 1,\n",
       " 'takeover': 2,\n",
       " 'drinks': 2,\n",
       " 'target': 2,\n",
       " 'shares': 2,\n",
       " 'said': 2,\n",
       " 'purchase': 2,\n",
       " 'firms': 2,\n",
       " 'market': 2,\n",
       " '$': 2,\n",
       " 'rum': 2,\n",
       " 'chains': 2,\n",
       " 'food': 3,\n",
       " 'firm': 3,\n",
       " 'Seagram': 3,\n",
       " 'euros': 3,\n",
       " 'whisky': 3,\n",
       " 'Domecq': 5,\n",
       " 'Allied': 5,\n",
       " 'Pernod': 9}"
      ]
     },
     "execution_count": 7,
     "metadata": {},
     "output_type": "execute_result"
    }
   ],
   "execution_count": 7
  },
  {
   "metadata": {
    "ExecuteTime": {
     "end_time": "2024-11-07T21:36:15.339376Z",
     "start_time": "2024-11-07T21:36:15.337069Z"
    }
   },
   "cell_type": "code",
   "source": [
    "word_freq = {}\n",
    "max_word = max(word_length_sorted.values())\n",
    "for k, v in word_length_sorted.items():\n",
    "    word_freq[k] = round(v / max_word, 1)"
   ],
   "id": "c236d22743298c4c",
   "outputs": [],
   "execution_count": 8
  },
  {
   "metadata": {
    "ExecuteTime": {
     "end_time": "2024-11-07T21:36:15.342417Z",
     "start_time": "2024-11-07T21:36:15.340485Z"
    }
   },
   "cell_type": "code",
   "source": "print('Pernod' in word_freq.keys())",
   "id": "648e4ab5e4072c7c",
   "outputs": [
    {
     "name": "stdout",
     "output_type": "stream",
     "text": [
      "True\n"
     ]
    }
   ],
   "execution_count": 9
  },
  {
   "metadata": {
    "ExecuteTime": {
     "end_time": "2024-11-07T21:36:15.348281Z",
     "start_time": "2024-11-07T21:36:15.344903Z"
    }
   },
   "cell_type": "code",
   "source": "len(sentence)",
   "id": "dfabeda2a3a81a0c",
   "outputs": [
    {
     "data": {
      "text/plain": [
       "12"
      ]
     },
     "execution_count": 10,
     "metadata": {},
     "output_type": "execute_result"
    }
   ],
   "execution_count": 10
  },
  {
   "metadata": {
    "ExecuteTime": {
     "end_time": "2024-11-07T21:36:15.351365Z",
     "start_time": "2024-11-07T21:36:15.349024Z"
    }
   },
   "cell_type": "code",
   "source": [
    "sentence_scores = {}\n",
    "for index, each_sentence in enumerate(sentence):\n",
    "    sentence_score = 0.0\n",
    "    for each_word in each_sentence:\n",
    "        if each_word.text in word_freq.keys():\n",
    "            sentence_score += round(word_freq[each_word.text],1)\n",
    "    sentence_scores[index] = sentence_score"
   ],
   "id": "2914c882ec8af6a",
   "outputs": [],
   "execution_count": 11
  },
  {
   "metadata": {
    "ExecuteTime": {
     "end_time": "2024-11-07T21:36:15.354923Z",
     "start_time": "2024-11-07T21:36:15.352050Z"
    }
   },
   "cell_type": "code",
   "source": "sentence_scores",
   "id": "708ac2591fc339ce",
   "outputs": [
    {
     "data": {
      "text/plain": [
       "{0: 5.999999999999999,\n",
       " 1: 1.7000000000000002,\n",
       " 2: 3.1000000000000005,\n",
       " 3: 1.7000000000000004,\n",
       " 4: 2.3000000000000007,\n",
       " 5: 0.8999999999999999,\n",
       " 6: 4.4,\n",
       " 7: 2.8000000000000007,\n",
       " 8: 2.600000000000001,\n",
       " 9: 3.800000000000001,\n",
       " 10: 0.9999999999999999,\n",
       " 11: 3.7000000000000006}"
      ]
     },
     "execution_count": 12,
     "metadata": {},
     "output_type": "execute_result"
    }
   ],
   "execution_count": 12
  },
  {
   "metadata": {
    "ExecuteTime": {
     "end_time": "2024-11-07T21:36:15.358093Z",
     "start_time": "2024-11-07T21:36:15.355820Z"
    }
   },
   "cell_type": "code",
   "source": [
    "threshold =  3.0\n",
    "summary = \" \"\n",
    "for index, each_sentence in enumerate(sentence):\n",
    "    if sentence_scores[index] > threshold:\n",
    "        summary += sentence[index].text\n",
    "        \n",
    "print(summary)"
   ],
   "id": "c690ec4fb0c45739",
   "outputs": [
    {
     "name": "stdout",
     "output_type": "stream",
     "text": [
      " Pernod takeover talk lifts Domecq Shares in UK drinks and food firm Allied Domecq have risen on speculation that it could be the target of a takeover by France's Pernod Ricard.Allied Domecq shares in London rose 4% by 1200 GMT, while Pernod shares in Paris slipped 1.2%.In terms of market value, Pernod - at 7.5bn euros ($9.7bn) - is about 9% smaller than Allied Domecq, which has a capitalisation of £5.7bn ($10.7bn; 8.2bn euros).Allied Domecq's big names include Malibu rum, Courvoisier brandy, Stolichnaya vodka and Ballantine's whisky - as well as snack food chains such as Dunkin' Donuts and Baskin-Robbins ice cream.Pernod has reduced the debt it took on to fund the Seagram purchase to just 1.8bn euros, while Allied has improved the performance of its fast-food chains.\n"
     ]
    }
   ],
   "execution_count": 13
  },
  {
   "metadata": {},
   "cell_type": "markdown",
   "source": "### Method 2 - Using TextRank Algorithm",
   "id": "8751d9d8ca4464b1"
  },
  {
   "metadata": {
    "ExecuteTime": {
     "end_time": "2024-11-07T21:38:09.558946Z",
     "start_time": "2024-11-07T21:38:04.090579Z"
    }
   },
   "cell_type": "code",
   "source": "from sentence_transformers import SentenceTransformer",
   "id": "9591e1a4ad06b20",
   "outputs": [
    {
     "name": "stderr",
     "output_type": "stream",
     "text": [
      "/opt/anaconda3/envs/ml-env/lib/python3.12/site-packages/sentence_transformers/cross_encoder/CrossEncoder.py:13: TqdmExperimentalWarning: Using `tqdm.autonotebook.tqdm` in notebook mode. Use `tqdm.tqdm` instead to force console mode (e.g. in jupyter console)\n",
      "  from tqdm.autonotebook import tqdm, trange\n"
     ]
    }
   ],
   "execution_count": 14
  },
  {
   "metadata": {
    "ExecuteTime": {
     "end_time": "2024-11-07T21:38:34.486576Z",
     "start_time": "2024-11-07T21:38:25.711938Z"
    }
   },
   "cell_type": "code",
   "source": "sbert_model = SentenceTransformer('bert-base-nli-mean-tokens')\n",
   "id": "227696244ef5bcff",
   "outputs": [
    {
     "data": {
      "text/plain": [
       "modules.json:   0%|          | 0.00/229 [00:00<?, ?B/s]"
      ],
      "application/vnd.jupyter.widget-view+json": {
       "version_major": 2,
       "version_minor": 0,
       "model_id": "4748d5997fc94f10a0bd932edef0760c"
      }
     },
     "metadata": {},
     "output_type": "display_data"
    },
    {
     "data": {
      "text/plain": [
       "config_sentence_transformers.json:   0%|          | 0.00/122 [00:00<?, ?B/s]"
      ],
      "application/vnd.jupyter.widget-view+json": {
       "version_major": 2,
       "version_minor": 0,
       "model_id": "1b2291785130471f8a812ac8f8be2932"
      }
     },
     "metadata": {},
     "output_type": "display_data"
    },
    {
     "data": {
      "text/plain": [
       "README.md:   0%|          | 0.00/3.99k [00:00<?, ?B/s]"
      ],
      "application/vnd.jupyter.widget-view+json": {
       "version_major": 2,
       "version_minor": 0,
       "model_id": "a5afce51ff594963b7a87cf9805b8374"
      }
     },
     "metadata": {},
     "output_type": "display_data"
    },
    {
     "data": {
      "text/plain": [
       "sentence_bert_config.json:   0%|          | 0.00/53.0 [00:00<?, ?B/s]"
      ],
      "application/vnd.jupyter.widget-view+json": {
       "version_major": 2,
       "version_minor": 0,
       "model_id": "902a7f37d46b4bd392f7964cab9d00c0"
      }
     },
     "metadata": {},
     "output_type": "display_data"
    },
    {
     "data": {
      "text/plain": [
       "config.json:   0%|          | 0.00/625 [00:00<?, ?B/s]"
      ],
      "application/vnd.jupyter.widget-view+json": {
       "version_major": 2,
       "version_minor": 0,
       "model_id": "6daebbbd902347caaec26ca0a32cb1cd"
      }
     },
     "metadata": {},
     "output_type": "display_data"
    },
    {
     "data": {
      "text/plain": [
       "model.safetensors:   0%|          | 0.00/438M [00:00<?, ?B/s]"
      ],
      "application/vnd.jupyter.widget-view+json": {
       "version_major": 2,
       "version_minor": 0,
       "model_id": "424f5a998e1b4e2abb6e02327441a823"
      }
     },
     "metadata": {},
     "output_type": "display_data"
    },
    {
     "data": {
      "text/plain": [
       "tokenizer_config.json:   0%|          | 0.00/399 [00:00<?, ?B/s]"
      ],
      "application/vnd.jupyter.widget-view+json": {
       "version_major": 2,
       "version_minor": 0,
       "model_id": "3ea51149ef884221a4971bdb005dcc6f"
      }
     },
     "metadata": {},
     "output_type": "display_data"
    },
    {
     "data": {
      "text/plain": [
       "vocab.txt:   0%|          | 0.00/232k [00:00<?, ?B/s]"
      ],
      "application/vnd.jupyter.widget-view+json": {
       "version_major": 2,
       "version_minor": 0,
       "model_id": "193c2e5b1aeb44069538769ef915911f"
      }
     },
     "metadata": {},
     "output_type": "display_data"
    },
    {
     "data": {
      "text/plain": [
       "tokenizer.json:   0%|          | 0.00/466k [00:00<?, ?B/s]"
      ],
      "application/vnd.jupyter.widget-view+json": {
       "version_major": 2,
       "version_minor": 0,
       "model_id": "9cbb8052e4944e9aa18165d0bdf39faf"
      }
     },
     "metadata": {},
     "output_type": "display_data"
    },
    {
     "data": {
      "text/plain": [
       "added_tokens.json:   0%|          | 0.00/2.00 [00:00<?, ?B/s]"
      ],
      "application/vnd.jupyter.widget-view+json": {
       "version_major": 2,
       "version_minor": 0,
       "model_id": "34a55f2812ae4a13928ad72d47b4e7a7"
      }
     },
     "metadata": {},
     "output_type": "display_data"
    },
    {
     "data": {
      "text/plain": [
       "special_tokens_map.json:   0%|          | 0.00/112 [00:00<?, ?B/s]"
      ],
      "application/vnd.jupyter.widget-view+json": {
       "version_major": 2,
       "version_minor": 0,
       "model_id": "66982b07b7f34bc99df5d8690cae6dca"
      }
     },
     "metadata": {},
     "output_type": "display_data"
    },
    {
     "data": {
      "text/plain": [
       "1_Pooling/config.json:   0%|          | 0.00/190 [00:00<?, ?B/s]"
      ],
      "application/vnd.jupyter.widget-view+json": {
       "version_major": 2,
       "version_minor": 0,
       "model_id": "9f68bd0de19344e19742ad438767ced1"
      }
     },
     "metadata": {},
     "output_type": "display_data"
    }
   ],
   "execution_count": 15
  },
  {
   "metadata": {},
   "cell_type": "code",
   "outputs": [],
   "execution_count": null,
   "source": "",
   "id": "fdf1c1476cb86478"
  }
 ],
 "metadata": {
  "kernelspec": {
   "display_name": "Python 3",
   "language": "python",
   "name": "python3"
  },
  "language_info": {
   "codemirror_mode": {
    "name": "ipython",
    "version": 2
   },
   "file_extension": ".py",
   "mimetype": "text/x-python",
   "name": "python",
   "nbconvert_exporter": "python",
   "pygments_lexer": "ipython2",
   "version": "2.7.6"
  }
 },
 "nbformat": 4,
 "nbformat_minor": 5
}
