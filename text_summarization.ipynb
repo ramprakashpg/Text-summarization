{
 "cells": [
  {
   "metadata": {},
   "cell_type": "markdown",
   "source": "# Text summarization",
   "id": "8a77807f92f26ee"
  },
  {
   "metadata": {
    "ExecuteTime": {
     "end_time": "2024-11-03T01:08:27.449890Z",
     "start_time": "2024-11-03T01:08:27.447040Z"
    }
   },
   "cell_type": "code",
   "source": "import spacy",
   "id": "d6ded9d18d48527c",
   "outputs": [],
   "execution_count": 10
  },
  {
   "metadata": {
    "ExecuteTime": {
     "end_time": "2024-11-03T01:08:27.805276Z",
     "start_time": "2024-11-03T01:08:27.451385Z"
    }
   },
   "cell_type": "code",
   "source": "nlp = spacy.load(\"en_core_web_sm\")",
   "id": "96c87757ba372398",
   "outputs": [],
   "execution_count": 11
  },
  {
   "metadata": {
    "ExecuteTime": {
     "end_time": "2024-11-03T01:08:27.813271Z",
     "start_time": "2024-11-03T01:08:27.809646Z"
    }
   },
   "cell_type": "code",
   "source": "text = \"Pernod takeover talk lifts Domecq Shares in UK drinks and food firm Allied Domecq have risen on speculation that it could be the target of a takeover by France's Pernod Ricard. Reports in the Wall Street Journal and the Financial Times suggested that the French spirits firm is considering a bid, but has yet to contact its target. Allied Domecq shares in London rose 4% by 1200 GMT, while Pernod shares in Paris slipped 1.2%. Pernod said it was seeking acquisitions but refused to comment on specifics. Pernod's last major purchase was a third of US giant Seagram in 2000, the move which propelled it into the global top three of drinks firms. The other two-thirds of Seagram was bought by market leader Diageo. In terms of market value, Pernod - at 7.5bn euros ($9.7bn) - is about 9% smaller than Allied Domecq, which has a capitalisation of £5.7bn ($10.7bn; 8.2bn euros). Last year Pernod tried to buy Glenmorangie, one of Scotland's premier whisky firms, but lost out to luxury goods firm LVMH. Pernod is home to brands including Chivas Regal Scotch whisky, Havana Club rum and Jacob's Creek wine. Allied Domecq's big names include Malibu rum, Courvoisier brandy, Stolichnaya vodka and Ballantine's whisky - as well as snack food chains such as Dunkin' Donuts and Baskin-Robbins ice cream. The WSJ said that the two were ripe for consolidation, having each dealt with problematic parts of their portfolio. Pernod has reduced the debt it took on to fund the Seagram purchase to just 1.8bn euros, while Allied has improved the performance of its fast-food chains.\"",
   "id": "fbc121e30a2defb3",
   "outputs": [],
   "execution_count": 12
  },
  {
   "metadata": {
    "ExecuteTime": {
     "end_time": "2024-11-04T17:01:44.036278Z",
     "start_time": "2024-11-04T17:01:44.000775Z"
    }
   },
   "cell_type": "code",
   "source": [
    "#TODO: clean the document by removing punctuations, stop words and numbers\n",
    "\n",
    "doc = nlp(text)\n",
    "clean_doc = []\n",
    "for token in doc:\n",
    "    if not token.is_stop and not token.is_punct and not token.like_num:\n",
    "        clean_doc.append(token.text)\n",
    "\n",
    "print(' '.join(clean_doc))"
   ],
   "id": "c8442cb278bf979",
   "outputs": [
    {
     "name": "stdout",
     "output_type": "stream",
     "text": [
      "Pernod takeover talk lifts Domecq Shares UK drinks food firm Allied Domecq risen speculation target takeover France Pernod Ricard Reports Wall Street Journal Financial Times suggested French spirits firm considering bid contact target Allied Domecq shares London rose GMT Pernod shares Paris slipped Pernod said seeking acquisitions refused comment specifics Pernod major purchase giant Seagram propelled global drinks firms thirds Seagram bought market leader Diageo terms market value Pernod 7.5bn euros $ 9.7bn smaller Allied Domecq capitalisation £ 5.7bn $ 10.7bn 8.2bn euros year Pernod tried buy Glenmorangie Scotland premier whisky firms lost luxury goods firm LVMH Pernod home brands including Chivas Regal Scotch whisky Havana Club rum Jacob Creek wine Allied Domecq big names include Malibu rum Courvoisier brandy Stolichnaya vodka Ballantine whisky snack food chains Dunkin Donuts Baskin Robbins ice cream WSJ said ripe consolidation having dealt problematic parts portfolio Pernod reduced debt took fund Seagram purchase 1.8bn euros Allied improved performance fast food chains\n"
     ]
    }
   ],
   "execution_count": 32
  },
  {
   "metadata": {
    "ExecuteTime": {
     "end_time": "2024-11-04T17:01:51.213404Z",
     "start_time": "2024-11-04T17:01:51.207175Z"
    }
   },
   "cell_type": "code",
   "source": [
    "sentence = [each_sentence for each_sentence in doc.sents]\n",
    "sentence"
   ],
   "id": "101ece4fcdd0a01b",
   "outputs": [
    {
     "data": {
      "text/plain": [
       "[Pernod takeover talk lifts Domecq Shares in UK drinks and food firm Allied Domecq have risen on speculation that it could be the target of a takeover by France's Pernod Ricard.,\n",
       " Reports in the Wall Street Journal and the Financial Times suggested that the French spirits firm is considering a bid, but has yet to contact its target.,\n",
       " Allied Domecq shares in London rose 4% by 1200 GMT, while Pernod shares in Paris slipped 1.2%.,\n",
       " Pernod said it was seeking acquisitions but refused to comment on specifics.,\n",
       " Pernod's last major purchase was a third of US giant Seagram in 2000, the move which propelled it into the global top three of drinks firms.,\n",
       " The other two-thirds of Seagram was bought by market leader Diageo.,\n",
       " In terms of market value, Pernod - at 7.5bn euros ($9.7bn) - is about 9% smaller than Allied Domecq, which has a capitalisation of £5.7bn ($10.7bn; 8.2bn euros).,\n",
       " Last year Pernod tried to buy Glenmorangie, one of Scotland's premier whisky firms, but lost out to luxury goods firm LVMH.,\n",
       " Pernod is home to brands including Chivas Regal Scotch whisky, Havana Club rum and Jacob's Creek wine.,\n",
       " Allied Domecq's big names include Malibu rum, Courvoisier brandy, Stolichnaya vodka and Ballantine's whisky - as well as snack food chains such as Dunkin' Donuts and Baskin-Robbins ice cream.,\n",
       " The WSJ said that the two were ripe for consolidation, having each dealt with problematic parts of their portfolio.,\n",
       " Pernod has reduced the debt it took on to fund the Seagram purchase to just 1.8bn euros, while Allied has improved the performance of its fast-food chains.]"
      ]
     },
     "execution_count": 33,
     "metadata": {},
     "output_type": "execute_result"
    }
   ],
   "execution_count": 33
  },
  {
   "metadata": {
    "ExecuteTime": {
     "end_time": "2024-11-04T18:18:45.839414Z",
     "start_time": "2024-11-04T18:18:45.836263Z"
    }
   },
   "cell_type": "code",
   "source": [
    "word_length = {}\n",
    "for token in clean_doc:\n",
    "    if token not in word_length:\n",
    "        word_length[token] = 1\n",
    "    else:\n",
    "        word_length[token] += 1\n"
   ],
   "id": "223377b4af3fb930",
   "outputs": [],
   "execution_count": 68
  },
  {
   "metadata": {
    "ExecuteTime": {
     "end_time": "2024-11-04T18:18:46.306858Z",
     "start_time": "2024-11-04T18:18:46.301377Z"
    }
   },
   "cell_type": "code",
   "source": [
    "word_length_sorted = {key: value for key, value in sorted(word_length.items(), key=lambda x: x[1])}\n",
    "word_length_sorted"
   ],
   "id": "69ef4c474fe2504c",
   "outputs": [
    {
     "data": {
      "text/plain": [
       "{'talk': 1,\n",
       " 'lifts': 1,\n",
       " 'Shares': 1,\n",
       " 'UK': 1,\n",
       " 'risen': 1,\n",
       " 'speculation': 1,\n",
       " 'France': 1,\n",
       " 'Ricard': 1,\n",
       " 'Reports': 1,\n",
       " 'Wall': 1,\n",
       " 'Street': 1,\n",
       " 'Journal': 1,\n",
       " 'Financial': 1,\n",
       " 'Times': 1,\n",
       " 'suggested': 1,\n",
       " 'French': 1,\n",
       " 'spirits': 1,\n",
       " 'considering': 1,\n",
       " 'bid': 1,\n",
       " 'contact': 1,\n",
       " 'London': 1,\n",
       " 'rose': 1,\n",
       " 'GMT': 1,\n",
       " 'Paris': 1,\n",
       " 'slipped': 1,\n",
       " 'seeking': 1,\n",
       " 'acquisitions': 1,\n",
       " 'refused': 1,\n",
       " 'comment': 1,\n",
       " 'specifics': 1,\n",
       " 'major': 1,\n",
       " 'giant': 1,\n",
       " 'propelled': 1,\n",
       " 'global': 1,\n",
       " 'thirds': 1,\n",
       " 'bought': 1,\n",
       " 'leader': 1,\n",
       " 'Diageo': 1,\n",
       " 'terms': 1,\n",
       " 'value': 1,\n",
       " '7.5bn': 1,\n",
       " '9.7bn': 1,\n",
       " 'smaller': 1,\n",
       " 'capitalisation': 1,\n",
       " '£': 1,\n",
       " '5.7bn': 1,\n",
       " '10.7bn': 1,\n",
       " '8.2bn': 1,\n",
       " 'year': 1,\n",
       " 'tried': 1,\n",
       " 'buy': 1,\n",
       " 'Glenmorangie': 1,\n",
       " 'Scotland': 1,\n",
       " 'premier': 1,\n",
       " 'lost': 1,\n",
       " 'luxury': 1,\n",
       " 'goods': 1,\n",
       " 'LVMH': 1,\n",
       " 'home': 1,\n",
       " 'brands': 1,\n",
       " 'including': 1,\n",
       " 'Chivas': 1,\n",
       " 'Regal': 1,\n",
       " 'Scotch': 1,\n",
       " 'Havana': 1,\n",
       " 'Club': 1,\n",
       " 'Jacob': 1,\n",
       " 'Creek': 1,\n",
       " 'wine': 1,\n",
       " 'big': 1,\n",
       " 'names': 1,\n",
       " 'include': 1,\n",
       " 'Malibu': 1,\n",
       " 'Courvoisier': 1,\n",
       " 'brandy': 1,\n",
       " 'Stolichnaya': 1,\n",
       " 'vodka': 1,\n",
       " 'Ballantine': 1,\n",
       " 'snack': 1,\n",
       " 'Dunkin': 1,\n",
       " 'Donuts': 1,\n",
       " 'Baskin': 1,\n",
       " 'Robbins': 1,\n",
       " 'ice': 1,\n",
       " 'cream': 1,\n",
       " 'WSJ': 1,\n",
       " 'ripe': 1,\n",
       " 'consolidation': 1,\n",
       " 'having': 1,\n",
       " 'dealt': 1,\n",
       " 'problematic': 1,\n",
       " 'parts': 1,\n",
       " 'portfolio': 1,\n",
       " 'reduced': 1,\n",
       " 'debt': 1,\n",
       " 'took': 1,\n",
       " 'fund': 1,\n",
       " '1.8bn': 1,\n",
       " 'improved': 1,\n",
       " 'performance': 1,\n",
       " 'fast': 1,\n",
       " 'takeover': 2,\n",
       " 'drinks': 2,\n",
       " 'target': 2,\n",
       " 'shares': 2,\n",
       " 'said': 2,\n",
       " 'purchase': 2,\n",
       " 'firms': 2,\n",
       " 'market': 2,\n",
       " '$': 2,\n",
       " 'rum': 2,\n",
       " 'chains': 2,\n",
       " 'food': 3,\n",
       " 'firm': 3,\n",
       " 'Seagram': 3,\n",
       " 'euros': 3,\n",
       " 'whisky': 3,\n",
       " 'Domecq': 5,\n",
       " 'Allied': 5,\n",
       " 'Pernod': 9}"
      ]
     },
     "execution_count": 69,
     "metadata": {},
     "output_type": "execute_result"
    }
   ],
   "execution_count": 69
  },
  {
   "metadata": {
    "ExecuteTime": {
     "end_time": "2024-11-04T18:19:57.952343Z",
     "start_time": "2024-11-04T18:19:57.949399Z"
    }
   },
   "cell_type": "code",
   "source": [
    "word_freq = {}\n",
    "max_word = max(word_length_sorted.values())\n",
    "for k,v in word_length_sorted.items():\n",
    "    word_freq[k] = round(v/max_word,1)"
   ],
   "id": "c236d22743298c4c",
   "outputs": [],
   "execution_count": 74
  },
  {
   "metadata": {
    "ExecuteTime": {
     "end_time": "2024-11-04T18:19:58.375289Z",
     "start_time": "2024-11-04T18:19:58.372788Z"
    }
   },
   "cell_type": "code",
   "source": "print(word_freq)",
   "id": "648e4ab5e4072c7c",
   "outputs": [
    {
     "name": "stdout",
     "output_type": "stream",
     "text": [
      "{'talk': 0.1, 'lifts': 0.1, 'Shares': 0.1, 'UK': 0.1, 'risen': 0.1, 'speculation': 0.1, 'France': 0.1, 'Ricard': 0.1, 'Reports': 0.1, 'Wall': 0.1, 'Street': 0.1, 'Journal': 0.1, 'Financial': 0.1, 'Times': 0.1, 'suggested': 0.1, 'French': 0.1, 'spirits': 0.1, 'considering': 0.1, 'bid': 0.1, 'contact': 0.1, 'London': 0.1, 'rose': 0.1, 'GMT': 0.1, 'Paris': 0.1, 'slipped': 0.1, 'seeking': 0.1, 'acquisitions': 0.1, 'refused': 0.1, 'comment': 0.1, 'specifics': 0.1, 'major': 0.1, 'giant': 0.1, 'propelled': 0.1, 'global': 0.1, 'thirds': 0.1, 'bought': 0.1, 'leader': 0.1, 'Diageo': 0.1, 'terms': 0.1, 'value': 0.1, '7.5bn': 0.1, '9.7bn': 0.1, 'smaller': 0.1, 'capitalisation': 0.1, '£': 0.1, '5.7bn': 0.1, '10.7bn': 0.1, '8.2bn': 0.1, 'year': 0.1, 'tried': 0.1, 'buy': 0.1, 'Glenmorangie': 0.1, 'Scotland': 0.1, 'premier': 0.1, 'lost': 0.1, 'luxury': 0.1, 'goods': 0.1, 'LVMH': 0.1, 'home': 0.1, 'brands': 0.1, 'including': 0.1, 'Chivas': 0.1, 'Regal': 0.1, 'Scotch': 0.1, 'Havana': 0.1, 'Club': 0.1, 'Jacob': 0.1, 'Creek': 0.1, 'wine': 0.1, 'big': 0.1, 'names': 0.1, 'include': 0.1, 'Malibu': 0.1, 'Courvoisier': 0.1, 'brandy': 0.1, 'Stolichnaya': 0.1, 'vodka': 0.1, 'Ballantine': 0.1, 'snack': 0.1, 'Dunkin': 0.1, 'Donuts': 0.1, 'Baskin': 0.1, 'Robbins': 0.1, 'ice': 0.1, 'cream': 0.1, 'WSJ': 0.1, 'ripe': 0.1, 'consolidation': 0.1, 'having': 0.1, 'dealt': 0.1, 'problematic': 0.1, 'parts': 0.1, 'portfolio': 0.1, 'reduced': 0.1, 'debt': 0.1, 'took': 0.1, 'fund': 0.1, '1.8bn': 0.1, 'improved': 0.1, 'performance': 0.1, 'fast': 0.1, 'takeover': 0.2, 'drinks': 0.2, 'target': 0.2, 'shares': 0.2, 'said': 0.2, 'purchase': 0.2, 'firms': 0.2, 'market': 0.2, '$': 0.2, 'rum': 0.2, 'chains': 0.2, 'food': 0.3, 'firm': 0.3, 'Seagram': 0.3, 'euros': 0.3, 'whisky': 0.3, 'Domecq': 0.6, 'Allied': 0.6, 'Pernod': 1.0}\n"
     ]
    }
   ],
   "execution_count": 75
  },
  {
   "metadata": {},
   "cell_type": "code",
   "outputs": [],
   "execution_count": null,
   "source": "",
   "id": "2914c882ec8af6a"
  }
 ],
 "metadata": {
  "kernelspec": {
   "display_name": "Python 3",
   "language": "python",
   "name": "python3"
  },
  "language_info": {
   "codemirror_mode": {
    "name": "ipython",
    "version": 2
   },
   "file_extension": ".py",
   "mimetype": "text/x-python",
   "name": "python",
   "nbconvert_exporter": "python",
   "pygments_lexer": "ipython2",
   "version": "2.7.6"
  }
 },
 "nbformat": 4,
 "nbformat_minor": 5
}
